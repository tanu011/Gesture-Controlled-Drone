{
  "nbformat": 4,
  "nbformat_minor": 0,
  "metadata": {
    "colab": {
      "provenance": [],
      "authorship_tag": "ABX9TyNPrVsXBKdTHZLNQPN1AzPC",
      "include_colab_link": true
    },
    "kernelspec": {
      "name": "python3",
      "display_name": "Python 3"
    },
    "language_info": {
      "name": "python"
    }
  },
  "cells": [
    {
      "cell_type": "markdown",
      "metadata": {
        "id": "view-in-github",
        "colab_type": "text"
      },
      "source": [
        "<a href=\"https://colab.research.google.com/github/tanu011/Gesture-Controlled-Drone/blob/main/image_segmentation.ipynb\" target=\"_parent\"><img src=\"https://colab.research.google.com/assets/colab-badge.svg\" alt=\"Open In Colab\"/></a>"
      ]
    },
    {
      "cell_type": "code",
      "execution_count": 17,
      "metadata": {
        "colab": {
          "base_uri": "https://localhost:8080/"
        },
        "id": "CGTNiH9U7V2w",
        "outputId": "fd89105c-24c5-46a7-9802-b7f21689cbc6"
      },
      "outputs": [
        {
          "output_type": "stream",
          "name": "stdout",
          "text": [
            "Requirement already satisfied: SimpleITK in /usr/local/lib/python3.10/dist-packages (2.3.1)\n",
            "Requirement already satisfied: vtk in /usr/local/lib/python3.10/dist-packages (9.3.0)\n",
            "Requirement already satisfied: pyvista in /usr/local/lib/python3.10/dist-packages (0.43.8)\n",
            "Requirement already satisfied: numpy in /usr/local/lib/python3.10/dist-packages (1.25.2)\n",
            "Requirement already satisfied: matplotlib>=2.0.0 in /usr/local/lib/python3.10/dist-packages (from vtk) (3.7.1)\n",
            "Requirement already satisfied: pillow in /usr/local/lib/python3.10/dist-packages (from pyvista) (9.4.0)\n",
            "Requirement already satisfied: pooch in /usr/local/lib/python3.10/dist-packages (from pyvista) (1.8.1)\n",
            "Requirement already satisfied: scooby>=0.5.1 in /usr/local/lib/python3.10/dist-packages (from pyvista) (0.10.0)\n",
            "Requirement already satisfied: contourpy>=1.0.1 in /usr/local/lib/python3.10/dist-packages (from matplotlib>=2.0.0->vtk) (1.2.1)\n",
            "Requirement already satisfied: cycler>=0.10 in /usr/local/lib/python3.10/dist-packages (from matplotlib>=2.0.0->vtk) (0.12.1)\n",
            "Requirement already satisfied: fonttools>=4.22.0 in /usr/local/lib/python3.10/dist-packages (from matplotlib>=2.0.0->vtk) (4.51.0)\n",
            "Requirement already satisfied: kiwisolver>=1.0.1 in /usr/local/lib/python3.10/dist-packages (from matplotlib>=2.0.0->vtk) (1.4.5)\n",
            "Requirement already satisfied: packaging>=20.0 in /usr/local/lib/python3.10/dist-packages (from matplotlib>=2.0.0->vtk) (24.0)\n",
            "Requirement already satisfied: pyparsing>=2.3.1 in /usr/local/lib/python3.10/dist-packages (from matplotlib>=2.0.0->vtk) (3.1.2)\n",
            "Requirement already satisfied: python-dateutil>=2.7 in /usr/local/lib/python3.10/dist-packages (from matplotlib>=2.0.0->vtk) (2.8.2)\n",
            "Requirement already satisfied: platformdirs>=2.5.0 in /usr/local/lib/python3.10/dist-packages (from pooch->pyvista) (4.2.1)\n",
            "Requirement already satisfied: requests>=2.19.0 in /usr/local/lib/python3.10/dist-packages (from pooch->pyvista) (2.31.0)\n",
            "Requirement already satisfied: six>=1.5 in /usr/local/lib/python3.10/dist-packages (from python-dateutil>=2.7->matplotlib>=2.0.0->vtk) (1.16.0)\n",
            "Requirement already satisfied: charset-normalizer<4,>=2 in /usr/local/lib/python3.10/dist-packages (from requests>=2.19.0->pooch->pyvista) (3.3.2)\n",
            "Requirement already satisfied: idna<4,>=2.5 in /usr/local/lib/python3.10/dist-packages (from requests>=2.19.0->pooch->pyvista) (3.7)\n",
            "Requirement already satisfied: urllib3<3,>=1.21.1 in /usr/local/lib/python3.10/dist-packages (from requests>=2.19.0->pooch->pyvista) (2.0.7)\n",
            "Requirement already satisfied: certifi>=2017.4.17 in /usr/local/lib/python3.10/dist-packages (from requests>=2.19.0->pooch->pyvista) (2024.2.2)\n"
          ]
        }
      ],
      "source": [
        "pip install SimpleITK vtk pyvista numpy\n"
      ]
    },
    {
      "cell_type": "code",
      "source": [
        "import SimpleITK as sitk\n",
        "import numpy as np\n",
        "import pyvista as pv\n",
        "import os"
      ],
      "metadata": {
        "id": "9ElzB4zA8I-p"
      },
      "execution_count": 8,
      "outputs": []
    },
    {
      "cell_type": "code",
      "source": [
        "def load_ct_images(directory):\n",
        "    reader = sitk.ImageSeriesReader()\n",
        "    series_ids = reader.GetGDCMSeriesIDs(directory)\n",
        "    if not series_ids:\n",
        "        raise ValueError(f\"No DICOM series found in directory: {directory}\")\n",
        "    series_file_names = reader.GetGDCMSeriesFileNames(directory, series_ids[0])\n",
        "    reader.SetFileNames(series_file_names)\n",
        "    image = reader.Execute()\n",
        "    return image\n"
      ],
      "metadata": {
        "id": "nZM9wWnl8ZLP"
      },
      "execution_count": 14,
      "outputs": []
    },
    {
      "cell_type": "code",
      "source": [
        "def preprocess_image(image):\n",
        "    # window level filter to enhance bone contrast\n",
        "    image = sitk.IntensityWindowing(image, windowMinimum=500, windowMaximum=3000)\n",
        "    return image"
      ],
      "metadata": {
        "id": "4Fyud3GI8c09"
      },
      "execution_count": 10,
      "outputs": []
    },
    {
      "cell_type": "code",
      "source": [
        "def segment_skull(image):\n",
        "    # Thresholding to isolate the bone\n",
        "    bone_threshold = sitk.BinaryThreshold(image, lowerThreshold=500, upperThreshold=3000)\n",
        "\n",
        "    # Connected component analysis to ensure connectivity\n",
        "    connected_components = sitk.ConnectedComponent(bone_threshold)\n",
        "    largest_component = sitk.RelabelComponent(connected_components)\n",
        "    skull_segmentation = sitk.BinaryThreshold(largest_component, lowerThreshold=1, upperThreshold=1)\n",
        "\n",
        "    return skull_segmentation"
      ],
      "metadata": {
        "id": "vsLi5I-s8jrc"
      },
      "execution_count": 11,
      "outputs": []
    },
    {
      "cell_type": "code",
      "source": [
        "def export_stl(segmentation, filename):\n",
        "    # Convert the SimpleITK image to a numpy array\n",
        "    np_array = sitk.GetArrayFromImage(segmentation).astype(np.uint8)\n",
        "\n",
        "    # Create a PyVista grid\n",
        "    grid = pv.UniformGrid()\n",
        "    grid.dimensions = np.array(segmentation.GetSize()) + 1\n",
        "    grid.origin = segmentation.GetOrigin()\n",
        "    grid.spacing = segmentation.GetSpacing()\n",
        "    grid.cell_data[\"values\"] = np_array.flatten(order=\"F\")\n",
        "\n",
        "    # Create a surface from the segmentation\n",
        "    surface = grid.contour([0.5])\n",
        "\n",
        "    # Save as STL\n",
        "    surface.save(filename)\n",
        ""
      ],
      "metadata": {
        "id": "4K1FTfvs8no_"
      },
      "execution_count": 12,
      "outputs": []
    },
    {
      "cell_type": "code",
      "source": [
        "directory = \"path/to/ct/images\"\n",
        "\n",
        "# Check if directory exists\n",
        "if not os.path.exists(directory):\n",
        "    raise ValueError(f\"The specified directory does not exist: {directory}\")\n",
        "\n",
        "\n",
        "# Load, preprocess, segment, and export the skull\n",
        "try:\n",
        "    image = load_ct_images(directory)\n",
        "    preprocessed_image = preprocess_image(image)\n",
        "    skull_segmentation = segment_skull(preprocessed_image)\n",
        "    export_stl(skull_segmentation, \"skull.stl\")\n",
        "    print(\"Skull segmentation and export completed successfully.\")\n",
        "except Exception as e:\n",
        "    print(f\"An error occurred: {e}\")"
      ],
      "metadata": {
        "colab": {
          "base_uri": "https://localhost:8080/",
          "height": 211
        },
        "id": "gg4c0TMK8tgp",
        "outputId": "63602fe4-6688-4f92-ccf8-5964d70390df"
      },
      "execution_count": 16,
      "outputs": [
        {
          "output_type": "error",
          "ename": "ValueError",
          "evalue": "The specified directory does not exist: path/to/ct/images",
          "traceback": [
            "\u001b[0;31m---------------------------------------------------------------------------\u001b[0m",
            "\u001b[0;31mValueError\u001b[0m                                Traceback (most recent call last)",
            "\u001b[0;32m<ipython-input-16-9f40dc19b0c3>\u001b[0m in \u001b[0;36m<cell line: 4>\u001b[0;34m()\u001b[0m\n\u001b[1;32m      3\u001b[0m \u001b[0;31m# Check if directory exists\u001b[0m\u001b[0;34m\u001b[0m\u001b[0;34m\u001b[0m\u001b[0m\n\u001b[1;32m      4\u001b[0m \u001b[0;32mif\u001b[0m \u001b[0;32mnot\u001b[0m \u001b[0mos\u001b[0m\u001b[0;34m.\u001b[0m\u001b[0mpath\u001b[0m\u001b[0;34m.\u001b[0m\u001b[0mexists\u001b[0m\u001b[0;34m(\u001b[0m\u001b[0mdirectory\u001b[0m\u001b[0;34m)\u001b[0m\u001b[0;34m:\u001b[0m\u001b[0;34m\u001b[0m\u001b[0;34m\u001b[0m\u001b[0m\n\u001b[0;32m----> 5\u001b[0;31m     \u001b[0;32mraise\u001b[0m \u001b[0mValueError\u001b[0m\u001b[0;34m(\u001b[0m\u001b[0;34mf\"The specified directory does not exist: {directory}\"\u001b[0m\u001b[0;34m)\u001b[0m\u001b[0;34m\u001b[0m\u001b[0;34m\u001b[0m\u001b[0m\n\u001b[0m\u001b[1;32m      6\u001b[0m \u001b[0;34m\u001b[0m\u001b[0m\n\u001b[1;32m      7\u001b[0m \u001b[0;34m\u001b[0m\u001b[0m\n",
            "\u001b[0;31mValueError\u001b[0m: The specified directory does not exist: path/to/ct/images"
          ]
        }
      ]
    },
    {
      "cell_type": "code",
      "source": [],
      "metadata": {
        "id": "YXKmQE728xAk"
      },
      "execution_count": null,
      "outputs": []
    }
  ]
}